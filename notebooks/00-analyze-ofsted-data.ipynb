{
 "cells": [
  {
   "cell_type": "markdown",
   "metadata": {},
   "source": [
    "# Analysis of Ofsted children's home inspections\n",
    "\n",
    "This notebook analyzes inspection data from the UK's Ofsted agency, which regulates children's homes. Please [read this page](https://github.com/BuzzFeedNews/2018-07-ofsted-inspections) for more details and context."
   ]
  },
  {
   "cell_type": "markdown",
   "metadata": {},
   "source": [
    "## Load the private-sector ownership data"
   ]
  },
  {
   "cell_type": "code",
   "execution_count": 1,
   "metadata": {},
   "outputs": [],
   "source": [
    "import pandas as pd"
   ]
  },
  {
   "cell_type": "code",
   "execution_count": 2,
   "metadata": {},
   "outputs": [],
   "source": [
    "private_ownerships = pd.read_csv(\n",
    "    \"../inputs/private-sector-ownerships.csv\",\n",
    "    dtype = str\n",
    ")"
   ]
  },
  {
   "cell_type": "code",
   "execution_count": 3,
   "metadata": {},
   "outputs": [],
   "source": [
    "CAMBIAN_PATTERN = r\"Cambian|Interact Care\""
   ]
  },
  {
   "cell_type": "markdown",
   "metadata": {},
   "source": [
    "## Load the \"as at 31 March 2018\" data\n",
    "\n",
    "... and merge with ownership data."
   ]
  },
  {
   "cell_type": "code",
   "execution_count": 4,
   "metadata": {},
   "outputs": [
    {
     "data": {
      "text/html": [
       "<div>\n",
       "<style scoped>\n",
       "    .dataframe tbody tr th:only-of-type {\n",
       "        vertical-align: middle;\n",
       "    }\n",
       "\n",
       "    .dataframe tbody tr th {\n",
       "        vertical-align: top;\n",
       "    }\n",
       "\n",
       "    .dataframe thead th {\n",
       "        text-align: right;\n",
       "    }\n",
       "</style>\n",
       "<table border=\"1\" class=\"dataframe\">\n",
       "  <thead>\n",
       "    <tr style=\"text-align: right;\">\n",
       "      <th></th>\n",
       "      <th>URN</th>\n",
       "      <th>Provision type</th>\n",
       "      <th>Registration status</th>\n",
       "      <th>Sector</th>\n",
       "      <th>Event type</th>\n",
       "      <th>Inspection date</th>\n",
       "      <th>Publication date</th>\n",
       "      <th>Overall effectiveness</th>\n",
       "      <th>Owner</th>\n",
       "      <th>owned_by_cambian</th>\n",
       "    </tr>\n",
       "  </thead>\n",
       "  <tbody>\n",
       "    <tr>\n",
       "      <th>0</th>\n",
       "      <td>1027076</td>\n",
       "      <td>Secure Training Centre</td>\n",
       "      <td>Active</td>\n",
       "      <td>Private</td>\n",
       "      <td>Full inspection</td>\n",
       "      <td>2016-06-24</td>\n",
       "      <td>2016-08-08</td>\n",
       "      <td>Inadequate</td>\n",
       "      <td>NaN</td>\n",
       "      <td>False</td>\n",
       "    </tr>\n",
       "    <tr>\n",
       "      <th>1</th>\n",
       "      <td>1027077</td>\n",
       "      <td>Secure Training Centre</td>\n",
       "      <td>Active</td>\n",
       "      <td>Private</td>\n",
       "      <td>Full inspection</td>\n",
       "      <td>2017-10-06</td>\n",
       "      <td>2017-11-21</td>\n",
       "      <td>Inadequate</td>\n",
       "      <td>NaN</td>\n",
       "      <td>False</td>\n",
       "    </tr>\n",
       "    <tr>\n",
       "      <th>2</th>\n",
       "      <td>1027078</td>\n",
       "      <td>Secure Training Centre</td>\n",
       "      <td>Active</td>\n",
       "      <td>Private</td>\n",
       "      <td>Full inspection</td>\n",
       "      <td>2017-06-23</td>\n",
       "      <td>2017-08-08</td>\n",
       "      <td>Requires improvement to be good</td>\n",
       "      <td>NaN</td>\n",
       "      <td>False</td>\n",
       "    </tr>\n",
       "    <tr>\n",
       "      <th>3</th>\n",
       "      <td>1027081</td>\n",
       "      <td>Residential Holiday Scheme for Disabled Children</td>\n",
       "      <td>Active</td>\n",
       "      <td>Voluntary</td>\n",
       "      <td>Full inspection</td>\n",
       "      <td>2017-08-24</td>\n",
       "      <td>2017-09-15</td>\n",
       "      <td>Good</td>\n",
       "      <td>NaN</td>\n",
       "      <td>False</td>\n",
       "    </tr>\n",
       "    <tr>\n",
       "      <th>4</th>\n",
       "      <td>1027082</td>\n",
       "      <td>Residential Holiday Scheme for Disabled Children</td>\n",
       "      <td>Active</td>\n",
       "      <td>Voluntary</td>\n",
       "      <td>Full inspection</td>\n",
       "      <td>2017-08-16</td>\n",
       "      <td>2017-09-11</td>\n",
       "      <td>Outstanding</td>\n",
       "      <td>NaN</td>\n",
       "      <td>False</td>\n",
       "    </tr>\n",
       "  </tbody>\n",
       "</table>\n",
       "</div>"
      ],
      "text/plain": [
       "       URN                                    Provision type  \\\n",
       "0  1027076                            Secure Training Centre   \n",
       "1  1027077                            Secure Training Centre   \n",
       "2  1027078                            Secure Training Centre   \n",
       "3  1027081  Residential Holiday Scheme for Disabled Children   \n",
       "4  1027082  Residential Holiday Scheme for Disabled Children   \n",
       "\n",
       "  Registration status     Sector       Event type Inspection date  \\\n",
       "0              Active    Private  Full inspection      2016-06-24   \n",
       "1              Active    Private  Full inspection      2017-10-06   \n",
       "2              Active    Private  Full inspection      2017-06-23   \n",
       "3              Active  Voluntary  Full inspection      2017-08-24   \n",
       "4              Active  Voluntary  Full inspection      2017-08-16   \n",
       "\n",
       "  Publication date            Overall effectiveness Owner  owned_by_cambian  \n",
       "0       2016-08-08                       Inadequate   NaN             False  \n",
       "1       2017-11-21                       Inadequate   NaN             False  \n",
       "2       2017-08-08  Requires improvement to be good   NaN             False  \n",
       "3       2017-09-15                             Good   NaN             False  \n",
       "4       2017-09-11                      Outstanding   NaN             False  "
      ]
     },
     "execution_count": 4,
     "metadata": {},
     "output_type": "execute_result"
    }
   ],
   "source": [
    "as_at_data = (\n",
    "    pd.read_csv(\n",
    "        \"../inputs/providers-as-at-2018-03-31.csv\",\n",
    "        skiprows = 1,\n",
    "        dtype = str\n",
    "    )\n",
    "    .assign(**{\n",
    "        \"Inspection date\": lambda df: pd.to_datetime(df[\"Inspection date\"], format = \"%d/%m/%Y\"),\n",
    "        \"Publication date\": lambda df: pd.to_datetime(df[\"Publication date\"], format = \"%d/%m/%Y\"),\n",
    "    })\n",
    "    [[\n",
    "        \"URN\",\n",
    "        \"Provision type\",\n",
    "        \"Registration status\",\n",
    "        \"Sector\",\n",
    "        \"Event type\",\n",
    "        \"Inspection date\",\n",
    "        \"Publication date\",\n",
    "        \"Overall effectiveness\"\n",
    "    ]]\n",
    "       \n",
    "    # Add ownership information\n",
    "    .merge(\n",
    "        private_ownerships[[\n",
    "            \"URN\",\n",
    "            \"Owner\"\n",
    "        ]],\n",
    "        how = \"left\"\n",
    "    )\n",
    "    \n",
    "    # Classify private-sector ownership\n",
    "    .assign(\n",
    "        owned_by_cambian = lambda x: x[\"Owner\"].str.contains(CAMBIAN_PATTERN, na = False, case = False)    \n",
    "    )\n",
    ")\n",
    "\n",
    "as_at_data.head()"
   ]
  },
  {
   "cell_type": "markdown",
   "metadata": {},
   "source": [
    "### Examine the `Registration status`, `Provision type`, `Overall effectiveness`, and `Sector` variables"
   ]
  },
  {
   "cell_type": "code",
   "execution_count": 5,
   "metadata": {},
   "outputs": [
    {
     "data": {
      "text/plain": [
       "Active    2797\n",
       "Name: Registration status, dtype: int64"
      ]
     },
     "execution_count": 5,
     "metadata": {},
     "output_type": "execute_result"
    }
   ],
   "source": [
    "as_at_data[\"Registration status\"].value_counts()"
   ]
  },
  {
   "cell_type": "code",
   "execution_count": 6,
   "metadata": {},
   "outputs": [
    {
     "data": {
      "text/plain": [
       "Children's home                                                 2038\n",
       "Independent Fostering Agency                                     278\n",
       "Residential Special School                                       150\n",
       "Boarding School                                                   77\n",
       "Residential special school (registered as a children's home)      71\n",
       "Voluntary Adoption Agency                                         40\n",
       "Further Education College with Residential Accommodation          38\n",
       "Residential Family Centre                                         37\n",
       "Adoption Support Agency                                           34\n",
       "Residential Holiday Scheme for Disabled Children                  16\n",
       "Secure children's home                                            14\n",
       "Secure Training Centre                                             3\n",
       "CAFCASS                                                            1\n",
       "Name: Provision type, dtype: int64"
      ]
     },
     "execution_count": 6,
     "metadata": {},
     "output_type": "execute_result"
    }
   ],
   "source": [
    "as_at_data[\"Provision type\"].value_counts()"
   ]
  },
  {
   "cell_type": "code",
   "execution_count": 7,
   "metadata": {},
   "outputs": [
    {
     "data": {
      "text/plain": [
       "Good                               1759\n",
       "Outstanding                         548\n",
       "Requires improvement to be good     399\n",
       "Inadequate                           60\n",
       "Requires improvement                 27\n",
       "Adequate                              3\n",
       "Satisfactory                          1\n",
       "Name: Overall effectiveness, dtype: int64"
      ]
     },
     "execution_count": 7,
     "metadata": {},
     "output_type": "execute_result"
    }
   ],
   "source": [
    "as_at_data[\"Overall effectiveness\"].value_counts()"
   ]
  },
  {
   "cell_type": "code",
   "execution_count": 8,
   "metadata": {},
   "outputs": [
    {
     "data": {
      "text/plain": [
       "Private             1876\n",
       "Local Authority      491\n",
       "Voluntary            358\n",
       "Academy               61\n",
       "Health Authority      10\n",
       "Public sector          1\n",
       "Name: Sector, dtype: int64"
      ]
     },
     "execution_count": 8,
     "metadata": {},
     "output_type": "execute_result"
    }
   ],
   "source": [
    "as_at_data[\"Sector\"].value_counts()"
   ]
  },
  {
   "cell_type": "markdown",
   "metadata": {},
   "source": [
    "## Apply data filters"
   ]
  },
  {
   "cell_type": "code",
   "execution_count": 9,
   "metadata": {},
   "outputs": [
    {
     "data": {
      "text/plain": [
       "2083"
      ]
     },
     "execution_count": 9,
     "metadata": {},
     "output_type": "execute_result"
    }
   ],
   "source": [
    "as_at_data_filtered = (\n",
    "    as_at_data\n",
    "    # Most recent listed inspection on/after 1 April 2016\n",
    "    .loc[lambda df: df[\"Inspection date\"] >= \"2016-04-01\"]  \n",
    "\n",
    "    # Filter on provision type\n",
    "    .loc[lambda df: df[\"Provision type\"].isin([\n",
    "        \"Children's home\",\n",
    "        \"Residential special school (registered as a children's home)\"\n",
    "    ])]\n",
    "\n",
    "    # Exclude the few homes run by health authorities\n",
    "    .loc[lambda x: x[\"Sector\"] != \"Health Authority\"]\n",
    "    \n",
    "    # Standardize \"Requires improvement\" phrasing\n",
    "    .replace({ \"Overall effectiveness\": {\n",
    "        \"Requires improvement\": \"Requires improvement to be good\"\n",
    "    }})\n",
    ")\n",
    "\n",
    "len(as_at_data_filtered)"
   ]
  },
  {
   "cell_type": "code",
   "execution_count": 10,
   "metadata": {},
   "outputs": [],
   "source": [
    "# Make sure that we've identified all private-sector owners\n",
    "assert (\n",
    "    as_at_data_filtered\n",
    "    .loc[lambda df: df[\"Sector\"] == \"Private\"]\n",
    "    [\"Owner\"].isnull()\n",
    "    .sum()\n",
    ") == 0"
   ]
  },
  {
   "cell_type": "code",
   "execution_count": 11,
   "metadata": {},
   "outputs": [
    {
     "data": {
      "text/plain": [
       "Private            1529\n",
       "Local Authority     401\n",
       "Voluntary           153\n",
       "Name: Sector, dtype: int64"
      ]
     },
     "execution_count": 11,
     "metadata": {},
     "output_type": "execute_result"
    }
   ],
   "source": [
    "as_at_data_filtered[\"Sector\"].value_counts()"
   ]
  },
  {
   "cell_type": "code",
   "execution_count": 12,
   "metadata": {},
   "outputs": [
    {
     "data": {
      "text/plain": [
       "Good                               1354\n",
       "Requires improvement to be good     352\n",
       "Outstanding                         346\n",
       "Inadequate                           31\n",
       "Name: Overall effectiveness, dtype: int64"
      ]
     },
     "execution_count": 12,
     "metadata": {},
     "output_type": "execute_result"
    }
   ],
   "source": [
    "as_at_data_filtered[\"Overall effectiveness\"].value_counts()"
   ]
  },
  {
   "cell_type": "markdown",
   "metadata": {},
   "source": [
    "Cambian-owned homes, by specific owner name in Ofsted data:"
   ]
  },
  {
   "cell_type": "code",
   "execution_count": 13,
   "metadata": {},
   "outputs": [
    {
     "data": {
      "text/plain": [
       "Cambian Childcare Ltd                         149\n",
       "Cambian Autism Services Ltd                     4\n",
       "Interact Care Limited                           2\n",
       "Cambian Asperger Syndrome Services Limited      1\n",
       "Cambian Signpost Limited                        1\n",
       "Cambian Autism Services Limited                 1\n",
       "Cambian Whinfell School Ltd                     1\n",
       "Name: Owner, dtype: int64"
      ]
     },
     "execution_count": 13,
     "metadata": {},
     "output_type": "execute_result"
    }
   ],
   "source": [
    "(\n",
    "    as_at_data_filtered\n",
    "    .loc[lambda x: x[\"owned_by_cambian\"]]\n",
    "    [\"Owner\"]\n",
    "    .value_counts()\n",
    ")"
   ]
  },
  {
   "cell_type": "markdown",
   "metadata": {},
   "source": [
    "## Analyze \"as at\" data"
   ]
  },
  {
   "cell_type": "code",
   "execution_count": 14,
   "metadata": {},
   "outputs": [],
   "source": [
    "def calculate_totals(grouped_df, normalize = False):\n",
    "    return (\n",
    "        grouped_df\n",
    "        [\"Overall effectiveness\"]\n",
    "        .value_counts(normalize = normalize)\n",
    "        .unstack()\n",
    "        .fillna(0)\n",
    "        [[\n",
    "            \"Inadequate\",\n",
    "            \"Requires improvement to be good\",\n",
    "            \"Good\",\n",
    "            \"Outstanding\",\n",
    "        ]]\n",
    "        .assign(\n",
    "            goodplus = lambda df: df[[ \"Good\", \"Outstanding\" ]].sum(axis = 1),\n",
    "            subpar = lambda df: df[[ \"Inadequate\", \"Requires improvement to be good\" ]].sum(axis = 1),\n",
    "            total = lambda df: df[\"goodplus\"] + df[\"subpar\"]        \n",
    "        )\n",
    "    )"
   ]
  },
  {
   "cell_type": "markdown",
   "metadata": {},
   "source": [
    "### By sector"
   ]
  },
  {
   "cell_type": "code",
   "execution_count": 15,
   "metadata": {},
   "outputs": [
    {
     "data": {
      "text/html": [
       "<div>\n",
       "<style scoped>\n",
       "    .dataframe tbody tr th:only-of-type {\n",
       "        vertical-align: middle;\n",
       "    }\n",
       "\n",
       "    .dataframe tbody tr th {\n",
       "        vertical-align: top;\n",
       "    }\n",
       "\n",
       "    .dataframe thead th {\n",
       "        text-align: right;\n",
       "    }\n",
       "</style>\n",
       "<table border=\"1\" class=\"dataframe\">\n",
       "  <thead>\n",
       "    <tr style=\"text-align: right;\">\n",
       "      <th>Overall effectiveness</th>\n",
       "      <th>Inadequate</th>\n",
       "      <th>Requires improvement to be good</th>\n",
       "      <th>Good</th>\n",
       "      <th>Outstanding</th>\n",
       "      <th>goodplus</th>\n",
       "      <th>subpar</th>\n",
       "      <th>total</th>\n",
       "    </tr>\n",
       "    <tr>\n",
       "      <th>Sector</th>\n",
       "      <th></th>\n",
       "      <th></th>\n",
       "      <th></th>\n",
       "      <th></th>\n",
       "      <th></th>\n",
       "      <th></th>\n",
       "      <th></th>\n",
       "    </tr>\n",
       "  </thead>\n",
       "  <tbody>\n",
       "    <tr>\n",
       "      <th>Local Authority</th>\n",
       "      <td>4</td>\n",
       "      <td>57</td>\n",
       "      <td>239</td>\n",
       "      <td>101</td>\n",
       "      <td>340</td>\n",
       "      <td>61</td>\n",
       "      <td>401</td>\n",
       "    </tr>\n",
       "    <tr>\n",
       "      <th>Private</th>\n",
       "      <td>26</td>\n",
       "      <td>272</td>\n",
       "      <td>1014</td>\n",
       "      <td>217</td>\n",
       "      <td>1231</td>\n",
       "      <td>298</td>\n",
       "      <td>1529</td>\n",
       "    </tr>\n",
       "    <tr>\n",
       "      <th>Voluntary</th>\n",
       "      <td>1</td>\n",
       "      <td>23</td>\n",
       "      <td>101</td>\n",
       "      <td>28</td>\n",
       "      <td>129</td>\n",
       "      <td>24</td>\n",
       "      <td>153</td>\n",
       "    </tr>\n",
       "  </tbody>\n",
       "</table>\n",
       "</div>"
      ],
      "text/plain": [
       "Overall effectiveness  Inadequate  Requires improvement to be good  Good  \\\n",
       "Sector                                                                     \n",
       "Local Authority                 4                               57   239   \n",
       "Private                        26                              272  1014   \n",
       "Voluntary                       1                               23   101   \n",
       "\n",
       "Overall effectiveness  Outstanding  goodplus  subpar  total  \n",
       "Sector                                                       \n",
       "Local Authority                101       340      61    401  \n",
       "Private                        217      1231     298   1529  \n",
       "Voluntary                       28       129      24    153  "
      ]
     },
     "execution_count": 15,
     "metadata": {},
     "output_type": "execute_result"
    }
   ],
   "source": [
    "(\n",
    "    as_at_data_filtered\n",
    "    .groupby([\n",
    "        \"Sector\",\n",
    "    ])\n",
    "    .pipe(calculate_totals)\n",
    ")"
   ]
  },
  {
   "cell_type": "markdown",
   "metadata": {},
   "source": [
    "### By sector and ownership"
   ]
  },
  {
   "cell_type": "code",
   "execution_count": 16,
   "metadata": {},
   "outputs": [
    {
     "data": {
      "text/html": [
       "<div>\n",
       "<style scoped>\n",
       "    .dataframe tbody tr th:only-of-type {\n",
       "        vertical-align: middle;\n",
       "    }\n",
       "\n",
       "    .dataframe tbody tr th {\n",
       "        vertical-align: top;\n",
       "    }\n",
       "\n",
       "    .dataframe thead th {\n",
       "        text-align: right;\n",
       "    }\n",
       "</style>\n",
       "<table border=\"1\" class=\"dataframe\">\n",
       "  <thead>\n",
       "    <tr style=\"text-align: right;\">\n",
       "      <th></th>\n",
       "      <th>Overall effectiveness</th>\n",
       "      <th>Inadequate</th>\n",
       "      <th>Requires improvement to be good</th>\n",
       "      <th>Good</th>\n",
       "      <th>Outstanding</th>\n",
       "      <th>goodplus</th>\n",
       "      <th>subpar</th>\n",
       "      <th>total</th>\n",
       "    </tr>\n",
       "    <tr>\n",
       "      <th>Sector</th>\n",
       "      <th>owned_by_cambian</th>\n",
       "      <th></th>\n",
       "      <th></th>\n",
       "      <th></th>\n",
       "      <th></th>\n",
       "      <th></th>\n",
       "      <th></th>\n",
       "      <th></th>\n",
       "    </tr>\n",
       "  </thead>\n",
       "  <tbody>\n",
       "    <tr>\n",
       "      <th>Local Authority</th>\n",
       "      <th>False</th>\n",
       "      <td>4</td>\n",
       "      <td>57</td>\n",
       "      <td>239</td>\n",
       "      <td>101</td>\n",
       "      <td>340</td>\n",
       "      <td>61</td>\n",
       "      <td>401</td>\n",
       "    </tr>\n",
       "    <tr>\n",
       "      <th rowspan=\"2\" valign=\"top\">Private</th>\n",
       "      <th>False</th>\n",
       "      <td>23</td>\n",
       "      <td>236</td>\n",
       "      <td>907</td>\n",
       "      <td>204</td>\n",
       "      <td>1111</td>\n",
       "      <td>259</td>\n",
       "      <td>1370</td>\n",
       "    </tr>\n",
       "    <tr>\n",
       "      <th>True</th>\n",
       "      <td>3</td>\n",
       "      <td>36</td>\n",
       "      <td>107</td>\n",
       "      <td>13</td>\n",
       "      <td>120</td>\n",
       "      <td>39</td>\n",
       "      <td>159</td>\n",
       "    </tr>\n",
       "    <tr>\n",
       "      <th>Voluntary</th>\n",
       "      <th>False</th>\n",
       "      <td>1</td>\n",
       "      <td>23</td>\n",
       "      <td>101</td>\n",
       "      <td>28</td>\n",
       "      <td>129</td>\n",
       "      <td>24</td>\n",
       "      <td>153</td>\n",
       "    </tr>\n",
       "  </tbody>\n",
       "</table>\n",
       "</div>"
      ],
      "text/plain": [
       "Overall effectiveness             Inadequate  Requires improvement to be good  \\\n",
       "Sector          owned_by_cambian                                                \n",
       "Local Authority False                      4                               57   \n",
       "Private         False                     23                              236   \n",
       "                True                       3                               36   \n",
       "Voluntary       False                      1                               23   \n",
       "\n",
       "Overall effectiveness             Good  Outstanding  goodplus  subpar  total  \n",
       "Sector          owned_by_cambian                                              \n",
       "Local Authority False              239          101       340      61    401  \n",
       "Private         False              907          204      1111     259   1370  \n",
       "                True               107           13       120      39    159  \n",
       "Voluntary       False              101           28       129      24    153  "
      ]
     },
     "execution_count": 16,
     "metadata": {},
     "output_type": "execute_result"
    }
   ],
   "source": [
    "(\n",
    "    as_at_data_filtered\n",
    "    .groupby([\n",
    "        \"Sector\",\n",
    "        \"owned_by_cambian\"\n",
    "    ])\n",
    "    .pipe(calculate_totals)\n",
    ")"
   ]
  },
  {
   "cell_type": "markdown",
   "metadata": {},
   "source": [
    "## Load the data on individual inspections"
   ]
  },
  {
   "cell_type": "code",
   "execution_count": 17,
   "metadata": {},
   "outputs": [
    {
     "data": {
      "text/html": [
       "<div>\n",
       "<style scoped>\n",
       "    .dataframe tbody tr th:only-of-type {\n",
       "        vertical-align: middle;\n",
       "    }\n",
       "\n",
       "    .dataframe tbody tr th {\n",
       "        vertical-align: top;\n",
       "    }\n",
       "\n",
       "    .dataframe thead th {\n",
       "        text-align: right;\n",
       "    }\n",
       "</style>\n",
       "<table border=\"1\" class=\"dataframe\">\n",
       "  <thead>\n",
       "    <tr style=\"text-align: right;\">\n",
       "      <th></th>\n",
       "      <th>URN</th>\n",
       "      <th>Provision type</th>\n",
       "      <th>Registration Status</th>\n",
       "      <th>Sector</th>\n",
       "      <th>Event type</th>\n",
       "      <th>Inspection date</th>\n",
       "      <th>Publication date</th>\n",
       "      <th>Overall effectiveness</th>\n",
       "      <th>Owner</th>\n",
       "      <th>owned_by_cambian</th>\n",
       "    </tr>\n",
       "  </thead>\n",
       "  <tbody>\n",
       "    <tr>\n",
       "      <th>0</th>\n",
       "      <td>1027077</td>\n",
       "      <td>Secure Training Centre</td>\n",
       "      <td>Active</td>\n",
       "      <td>Private</td>\n",
       "      <td>Full inspection</td>\n",
       "      <td>2017-10-06</td>\n",
       "      <td>2017-11-21</td>\n",
       "      <td>Inadequate</td>\n",
       "      <td>NaN</td>\n",
       "      <td>False</td>\n",
       "    </tr>\n",
       "    <tr>\n",
       "      <th>1</th>\n",
       "      <td>1027078</td>\n",
       "      <td>Secure Training Centre</td>\n",
       "      <td>Active</td>\n",
       "      <td>Private</td>\n",
       "      <td>Full inspection</td>\n",
       "      <td>2017-06-23</td>\n",
       "      <td>2017-08-08</td>\n",
       "      <td>Requires improvement</td>\n",
       "      <td>NaN</td>\n",
       "      <td>False</td>\n",
       "    </tr>\n",
       "    <tr>\n",
       "      <th>2</th>\n",
       "      <td>1027081</td>\n",
       "      <td>Residential Holiday Scheme for Disabled Children</td>\n",
       "      <td>Active</td>\n",
       "      <td>Voluntary</td>\n",
       "      <td>Full inspection</td>\n",
       "      <td>2017-08-24</td>\n",
       "      <td>2017-09-15</td>\n",
       "      <td>Good</td>\n",
       "      <td>NaN</td>\n",
       "      <td>False</td>\n",
       "    </tr>\n",
       "    <tr>\n",
       "      <th>3</th>\n",
       "      <td>1027082</td>\n",
       "      <td>Residential Holiday Scheme for Disabled Children</td>\n",
       "      <td>Active</td>\n",
       "      <td>Voluntary</td>\n",
       "      <td>Full inspection</td>\n",
       "      <td>2017-08-16</td>\n",
       "      <td>2017-09-11</td>\n",
       "      <td>Outstanding</td>\n",
       "      <td>NaN</td>\n",
       "      <td>False</td>\n",
       "    </tr>\n",
       "    <tr>\n",
       "      <th>4</th>\n",
       "      <td>1027083</td>\n",
       "      <td>Residential Holiday Scheme for Disabled Children</td>\n",
       "      <td>Active</td>\n",
       "      <td>Voluntary</td>\n",
       "      <td>Full inspection</td>\n",
       "      <td>2017-08-17</td>\n",
       "      <td>2017-09-21</td>\n",
       "      <td>Outstanding</td>\n",
       "      <td>NaN</td>\n",
       "      <td>False</td>\n",
       "    </tr>\n",
       "  </tbody>\n",
       "</table>\n",
       "</div>"
      ],
      "text/plain": [
       "       URN                                    Provision type  \\\n",
       "0  1027077                            Secure Training Centre   \n",
       "1  1027078                            Secure Training Centre   \n",
       "2  1027081  Residential Holiday Scheme for Disabled Children   \n",
       "3  1027082  Residential Holiday Scheme for Disabled Children   \n",
       "4  1027083  Residential Holiday Scheme for Disabled Children   \n",
       "\n",
       "  Registration Status     Sector       Event type Inspection date  \\\n",
       "0              Active    Private  Full inspection      2017-10-06   \n",
       "1              Active    Private  Full inspection      2017-06-23   \n",
       "2              Active  Voluntary  Full inspection      2017-08-24   \n",
       "3              Active  Voluntary  Full inspection      2017-08-16   \n",
       "4              Active  Voluntary  Full inspection      2017-08-17   \n",
       "\n",
       "  Publication date Overall effectiveness Owner  owned_by_cambian  \n",
       "0       2017-11-21            Inadequate   NaN             False  \n",
       "1       2017-08-08  Requires improvement   NaN             False  \n",
       "2       2017-09-15                  Good   NaN             False  \n",
       "3       2017-09-11           Outstanding   NaN             False  \n",
       "4       2017-09-21           Outstanding   NaN             False  "
      ]
     },
     "execution_count": 17,
     "metadata": {},
     "output_type": "execute_result"
    }
   ],
   "source": [
    "inspections = (\n",
    "    pd.read_csv(\n",
    "        \"../inputs/inspections-in-year-2017-18.csv\",\n",
    "        skiprows = 1,\n",
    "        dtype = str\n",
    "    )\n",
    "    .assign(**{\n",
    "        \"Inspection date\": lambda df: pd.to_datetime(df[\"Inspection date\"], format = \"%d/%m/%Y\"),\n",
    "        \"Publication date\": lambda df: pd.to_datetime(df[\"Publication date\"], format = \"%d/%m/%Y\"),\n",
    "    })\n",
    "    [[\n",
    "        \"URN\",\n",
    "        \"Provision type\",\n",
    "        \"Registration Status\",\n",
    "        \"Sector\",\n",
    "        \"Event type\",\n",
    "        \"Inspection date\",\n",
    "        \"Publication date\",\n",
    "        \"Overall effectiveness\"\n",
    "    ]]\n",
    "    .merge(\n",
    "        private_ownerships[[\n",
    "            \"URN\",\n",
    "            \"Owner\"\n",
    "        ]],\n",
    "        how = \"left\"\n",
    "    )\n",
    "    .assign(\n",
    "        owned_by_cambian = lambda x: x[\"Owner\"].str.contains(CAMBIAN_PATTERN, na = False, case = False),\n",
    "    )\n",
    ")\n",
    "\n",
    "inspections.head()"
   ]
  },
  {
   "cell_type": "markdown",
   "metadata": {},
   "source": [
    "### Examine the `Registration Status`, `Provision type`, `Event type`, `Overall effectiveness`, and `Sector` variables"
   ]
  },
  {
   "cell_type": "code",
   "execution_count": 18,
   "metadata": {},
   "outputs": [
    {
     "data": {
      "text/plain": [
       "Active       3398\n",
       "Resigned       84\n",
       "Cancelled       6\n",
       "Name: Registration Status, dtype: int64"
      ]
     },
     "execution_count": 18,
     "metadata": {},
     "output_type": "execute_result"
    }
   ],
   "source": [
    "inspections[\"Registration Status\"].value_counts()"
   ]
  },
  {
   "cell_type": "code",
   "execution_count": 19,
   "metadata": {},
   "outputs": [
    {
     "data": {
      "text/plain": [
       "Children's home                                                 2917\n",
       "Residential Special School                                       151\n",
       "Independent Fostering Agency                                     141\n",
       "Residential special school (registered as a children's home)     118\n",
       "Boarding School                                                   39\n",
       "Secure children's home                                            30\n",
       "Residential Family Centre                                         22\n",
       "Further Education College with Residential Accommodation          18\n",
       "Residential Holiday Scheme for Disabled Children                  18\n",
       "Voluntary Adoption Agency                                         17\n",
       "Adoption Support Agency                                           14\n",
       "Secure Training Centre                                             2\n",
       "CAFCASS                                                            1\n",
       "Name: Provision type, dtype: int64"
      ]
     },
     "execution_count": 19,
     "metadata": {},
     "output_type": "execute_result"
    }
   ],
   "source": [
    "inspections[\"Provision type\"].value_counts()"
   ]
  },
  {
   "cell_type": "code",
   "execution_count": 20,
   "metadata": {},
   "outputs": [
    {
     "data": {
      "text/plain": [
       "Full inspection          2600\n",
       "Interim inspection        580\n",
       "Monitoring inspection     308\n",
       "Name: Event type, dtype: int64"
      ]
     },
     "execution_count": 20,
     "metadata": {},
     "output_type": "execute_result"
    }
   ],
   "source": [
    "inspections[\"Event type\"].value_counts()"
   ]
  },
  {
   "cell_type": "code",
   "execution_count": 21,
   "metadata": {},
   "outputs": [
    {
     "data": {
      "text/plain": [
       "Good                               1554\n",
       "Outstanding                         456\n",
       "Requires improvement to be good     416\n",
       "Sustained effectiveness             201\n",
       "Inadequate                          175\n",
       "Improved effectiveness              170\n",
       "Declined in effectiveness           127\n",
       "Not judged                           79\n",
       "Requires improvement                  1\n",
       "Name: Overall effectiveness, dtype: int64"
      ]
     },
     "execution_count": 21,
     "metadata": {},
     "output_type": "execute_result"
    }
   ],
   "source": [
    "inspections[\"Overall effectiveness\"].value_counts()"
   ]
  },
  {
   "cell_type": "code",
   "execution_count": 22,
   "metadata": {},
   "outputs": [
    {
     "data": {
      "text/plain": [
       "Private             2506\n",
       "Local Authority      607\n",
       "Voluntary            324\n",
       "Academy               38\n",
       "Health Authority      12\n",
       "Public sector          1\n",
       "Name: Sector, dtype: int64"
      ]
     },
     "execution_count": 22,
     "metadata": {},
     "output_type": "execute_result"
    }
   ],
   "source": [
    "inspections[\"Sector\"].value_counts()"
   ]
  },
  {
   "cell_type": "markdown",
   "metadata": {},
   "source": [
    "## Apply data filters"
   ]
  },
  {
   "cell_type": "code",
   "execution_count": 23,
   "metadata": {},
   "outputs": [
    {
     "data": {
      "text/plain": [
       "2195"
      ]
     },
     "execution_count": 23,
     "metadata": {},
     "output_type": "execute_result"
    }
   ],
   "source": [
    "inspections_filtered = (\n",
    "    inspections\n",
    "    # Only full inspections\n",
    "    .loc[lambda x: x[\"Event type\"] == \"Full inspection\"]\n",
    "\n",
    "    # Filter on provision type\n",
    "    .loc[lambda df: df[\"Provision type\"].isin([\n",
    "        \"Children's home\",\n",
    "        \"Residential special school (registered as a children's home)\"\n",
    "    ])]\n",
    "\n",
    "    # Exclude the few homes run by health authorities\n",
    "    .loc[lambda x: x[\"Sector\"] != \"Health Authority\"]\n",
    ")\n",
    "\n",
    "len(inspections_filtered)"
   ]
  },
  {
   "cell_type": "code",
   "execution_count": 24,
   "metadata": {},
   "outputs": [],
   "source": [
    "# Make sure that we've identified all private-sector owners\n",
    "assert (\n",
    "    inspections_filtered\n",
    "    .loc[lambda df: df[\"Sector\"] == \"Private\"]\n",
    "    [\"Owner\"].isnull()\n",
    "    .sum()\n",
    ") == 0"
   ]
  },
  {
   "cell_type": "code",
   "execution_count": 25,
   "metadata": {},
   "outputs": [
    {
     "data": {
      "text/plain": [
       "Good                               1349\n",
       "Requires improvement to be good     363\n",
       "Outstanding                         330\n",
       "Inadequate                          153\n",
       "Name: Overall effectiveness, dtype: int64"
      ]
     },
     "execution_count": 25,
     "metadata": {},
     "output_type": "execute_result"
    }
   ],
   "source": [
    "inspections_filtered[\"Overall effectiveness\"].value_counts()"
   ]
  },
  {
   "cell_type": "code",
   "execution_count": 26,
   "metadata": {},
   "outputs": [
    {
     "data": {
      "text/plain": [
       "Private            1630\n",
       "Local Authority     404\n",
       "Voluntary           161\n",
       "Name: Sector, dtype: int64"
      ]
     },
     "execution_count": 26,
     "metadata": {},
     "output_type": "execute_result"
    }
   ],
   "source": [
    "inspections_filtered[\"Sector\"].value_counts()"
   ]
  },
  {
   "cell_type": "markdown",
   "metadata": {},
   "source": [
    "## Analyze latest inspections conducted in 2017-18 inspection year"
   ]
  },
  {
   "cell_type": "code",
   "execution_count": 27,
   "metadata": {},
   "outputs": [
    {
     "name": "stdout",
     "output_type": "stream",
     "text": [
      "2089\n"
     ]
    },
    {
     "data": {
      "text/html": [
       "<div>\n",
       "<style scoped>\n",
       "    .dataframe tbody tr th:only-of-type {\n",
       "        vertical-align: middle;\n",
       "    }\n",
       "\n",
       "    .dataframe tbody tr th {\n",
       "        vertical-align: top;\n",
       "    }\n",
       "\n",
       "    .dataframe thead th {\n",
       "        text-align: right;\n",
       "    }\n",
       "</style>\n",
       "<table border=\"1\" class=\"dataframe\">\n",
       "  <thead>\n",
       "    <tr style=\"text-align: right;\">\n",
       "      <th></th>\n",
       "      <th>URN</th>\n",
       "      <th>Provision type</th>\n",
       "      <th>Registration Status</th>\n",
       "      <th>Sector</th>\n",
       "      <th>Event type</th>\n",
       "      <th>Inspection date</th>\n",
       "      <th>Publication date</th>\n",
       "      <th>Overall effectiveness</th>\n",
       "      <th>Owner</th>\n",
       "      <th>owned_by_cambian</th>\n",
       "    </tr>\n",
       "  </thead>\n",
       "  <tbody>\n",
       "    <tr>\n",
       "      <th>249</th>\n",
       "      <td>1234624</td>\n",
       "      <td>Children's home</td>\n",
       "      <td>Active</td>\n",
       "      <td>Private</td>\n",
       "      <td>Full inspection</td>\n",
       "      <td>2018-03-26</td>\n",
       "      <td>2018-04-19</td>\n",
       "      <td>Good</td>\n",
       "      <td>Esland North Limited</td>\n",
       "      <td>False</td>\n",
       "    </tr>\n",
       "    <tr>\n",
       "      <th>3421</th>\n",
       "      <td>SC486604</td>\n",
       "      <td>Children's home</td>\n",
       "      <td>Active</td>\n",
       "      <td>Local Authority</td>\n",
       "      <td>Full inspection</td>\n",
       "      <td>2018-03-22</td>\n",
       "      <td>2018-04-19</td>\n",
       "      <td>Outstanding</td>\n",
       "      <td>NaN</td>\n",
       "      <td>False</td>\n",
       "    </tr>\n",
       "    <tr>\n",
       "      <th>711</th>\n",
       "      <td>1263199</td>\n",
       "      <td>Children's home</td>\n",
       "      <td>Active</td>\n",
       "      <td>Private</td>\n",
       "      <td>Full inspection</td>\n",
       "      <td>2018-03-21</td>\n",
       "      <td>2018-04-06</td>\n",
       "      <td>Good</td>\n",
       "      <td>Witherslack Group Ltd</td>\n",
       "      <td>False</td>\n",
       "    </tr>\n",
       "    <tr>\n",
       "      <th>719</th>\n",
       "      <td>1264016</td>\n",
       "      <td>Children's home</td>\n",
       "      <td>Active</td>\n",
       "      <td>Private</td>\n",
       "      <td>Full inspection</td>\n",
       "      <td>2018-03-21</td>\n",
       "      <td>2018-04-23</td>\n",
       "      <td>Good</td>\n",
       "      <td>Care 2 Share Limited</td>\n",
       "      <td>False</td>\n",
       "    </tr>\n",
       "    <tr>\n",
       "      <th>727</th>\n",
       "      <td>SC000803</td>\n",
       "      <td>Children's home</td>\n",
       "      <td>Active</td>\n",
       "      <td>Private</td>\n",
       "      <td>Full inspection</td>\n",
       "      <td>2018-03-20</td>\n",
       "      <td>2018-04-13</td>\n",
       "      <td>Good</td>\n",
       "      <td>Pear Tree Projects Limited</td>\n",
       "      <td>False</td>\n",
       "    </tr>\n",
       "  </tbody>\n",
       "</table>\n",
       "</div>"
      ],
      "text/plain": [
       "           URN   Provision type Registration Status           Sector  \\\n",
       "249    1234624  Children's home              Active          Private   \n",
       "3421  SC486604  Children's home              Active  Local Authority   \n",
       "711    1263199  Children's home              Active          Private   \n",
       "719    1264016  Children's home              Active          Private   \n",
       "727   SC000803  Children's home              Active          Private   \n",
       "\n",
       "           Event type Inspection date Publication date Overall effectiveness  \\\n",
       "249   Full inspection      2018-03-26       2018-04-19                  Good   \n",
       "3421  Full inspection      2018-03-22       2018-04-19           Outstanding   \n",
       "711   Full inspection      2018-03-21       2018-04-06                  Good   \n",
       "719   Full inspection      2018-03-21       2018-04-23                  Good   \n",
       "727   Full inspection      2018-03-20       2018-04-13                  Good   \n",
       "\n",
       "                           Owner  owned_by_cambian  \n",
       "249         Esland North Limited             False  \n",
       "3421                         NaN             False  \n",
       "711        Witherslack Group Ltd             False  \n",
       "719         Care 2 Share Limited             False  \n",
       "727   Pear Tree Projects Limited             False  "
      ]
     },
     "execution_count": 27,
     "metadata": {},
     "output_type": "execute_result"
    }
   ],
   "source": [
    "inspections_filtered_latest = (\n",
    "    inspections_filtered\n",
    "    .sort_values(\"Inspection date\", ascending = False)\n",
    "    .drop_duplicates(subset = [ \"URN\" ])\n",
    ")\n",
    "\n",
    "print(len(inspections_filtered_latest))\n",
    "\n",
    "inspections_filtered_latest.head()"
   ]
  },
  {
   "cell_type": "markdown",
   "metadata": {},
   "source": [
    "### By sector"
   ]
  },
  {
   "cell_type": "code",
   "execution_count": 28,
   "metadata": {},
   "outputs": [
    {
     "data": {
      "text/html": [
       "<div>\n",
       "<style scoped>\n",
       "    .dataframe tbody tr th:only-of-type {\n",
       "        vertical-align: middle;\n",
       "    }\n",
       "\n",
       "    .dataframe tbody tr th {\n",
       "        vertical-align: top;\n",
       "    }\n",
       "\n",
       "    .dataframe thead th {\n",
       "        text-align: right;\n",
       "    }\n",
       "</style>\n",
       "<table border=\"1\" class=\"dataframe\">\n",
       "  <thead>\n",
       "    <tr style=\"text-align: right;\">\n",
       "      <th>Overall effectiveness</th>\n",
       "      <th>Inadequate</th>\n",
       "      <th>Requires improvement to be good</th>\n",
       "      <th>Good</th>\n",
       "      <th>Outstanding</th>\n",
       "      <th>goodplus</th>\n",
       "      <th>subpar</th>\n",
       "      <th>total</th>\n",
       "    </tr>\n",
       "    <tr>\n",
       "      <th>Sector</th>\n",
       "      <th></th>\n",
       "      <th></th>\n",
       "      <th></th>\n",
       "      <th></th>\n",
       "      <th></th>\n",
       "      <th></th>\n",
       "      <th></th>\n",
       "    </tr>\n",
       "  </thead>\n",
       "  <tbody>\n",
       "    <tr>\n",
       "      <th>Local Authority</th>\n",
       "      <td>6</td>\n",
       "      <td>60</td>\n",
       "      <td>235</td>\n",
       "      <td>91</td>\n",
       "      <td>326</td>\n",
       "      <td>66</td>\n",
       "      <td>392</td>\n",
       "    </tr>\n",
       "    <tr>\n",
       "      <th>Private</th>\n",
       "      <td>47</td>\n",
       "      <td>273</td>\n",
       "      <td>1008</td>\n",
       "      <td>211</td>\n",
       "      <td>1219</td>\n",
       "      <td>320</td>\n",
       "      <td>1539</td>\n",
       "    </tr>\n",
       "    <tr>\n",
       "      <th>Voluntary</th>\n",
       "      <td>3</td>\n",
       "      <td>23</td>\n",
       "      <td>104</td>\n",
       "      <td>28</td>\n",
       "      <td>132</td>\n",
       "      <td>26</td>\n",
       "      <td>158</td>\n",
       "    </tr>\n",
       "  </tbody>\n",
       "</table>\n",
       "</div>"
      ],
      "text/plain": [
       "Overall effectiveness  Inadequate  Requires improvement to be good  Good  \\\n",
       "Sector                                                                     \n",
       "Local Authority                 6                               60   235   \n",
       "Private                        47                              273  1008   \n",
       "Voluntary                       3                               23   104   \n",
       "\n",
       "Overall effectiveness  Outstanding  goodplus  subpar  total  \n",
       "Sector                                                       \n",
       "Local Authority                 91       326      66    392  \n",
       "Private                        211      1219     320   1539  \n",
       "Voluntary                       28       132      26    158  "
      ]
     },
     "execution_count": 28,
     "metadata": {},
     "output_type": "execute_result"
    }
   ],
   "source": [
    "(\n",
    "    inspections_filtered_latest\n",
    "    .groupby([\n",
    "        \"Sector\"\n",
    "    ])\n",
    "    .pipe(calculate_totals)\n",
    ")"
   ]
  },
  {
   "cell_type": "markdown",
   "metadata": {},
   "source": [
    "### By sector and ownership"
   ]
  },
  {
   "cell_type": "code",
   "execution_count": 29,
   "metadata": {},
   "outputs": [
    {
     "data": {
      "text/html": [
       "<div>\n",
       "<style scoped>\n",
       "    .dataframe tbody tr th:only-of-type {\n",
       "        vertical-align: middle;\n",
       "    }\n",
       "\n",
       "    .dataframe tbody tr th {\n",
       "        vertical-align: top;\n",
       "    }\n",
       "\n",
       "    .dataframe thead th {\n",
       "        text-align: right;\n",
       "    }\n",
       "</style>\n",
       "<table border=\"1\" class=\"dataframe\">\n",
       "  <thead>\n",
       "    <tr style=\"text-align: right;\">\n",
       "      <th></th>\n",
       "      <th>Overall effectiveness</th>\n",
       "      <th>Inadequate</th>\n",
       "      <th>Requires improvement to be good</th>\n",
       "      <th>Good</th>\n",
       "      <th>Outstanding</th>\n",
       "      <th>goodplus</th>\n",
       "      <th>subpar</th>\n",
       "      <th>total</th>\n",
       "    </tr>\n",
       "    <tr>\n",
       "      <th>Sector</th>\n",
       "      <th>owned_by_cambian</th>\n",
       "      <th></th>\n",
       "      <th></th>\n",
       "      <th></th>\n",
       "      <th></th>\n",
       "      <th></th>\n",
       "      <th></th>\n",
       "      <th></th>\n",
       "    </tr>\n",
       "  </thead>\n",
       "  <tbody>\n",
       "    <tr>\n",
       "      <th>Local Authority</th>\n",
       "      <th>False</th>\n",
       "      <td>6</td>\n",
       "      <td>60</td>\n",
       "      <td>235</td>\n",
       "      <td>91</td>\n",
       "      <td>326</td>\n",
       "      <td>66</td>\n",
       "      <td>392</td>\n",
       "    </tr>\n",
       "    <tr>\n",
       "      <th rowspan=\"2\" valign=\"top\">Private</th>\n",
       "      <th>False</th>\n",
       "      <td>43</td>\n",
       "      <td>237</td>\n",
       "      <td>901</td>\n",
       "      <td>199</td>\n",
       "      <td>1100</td>\n",
       "      <td>280</td>\n",
       "      <td>1380</td>\n",
       "    </tr>\n",
       "    <tr>\n",
       "      <th>True</th>\n",
       "      <td>4</td>\n",
       "      <td>36</td>\n",
       "      <td>107</td>\n",
       "      <td>12</td>\n",
       "      <td>119</td>\n",
       "      <td>40</td>\n",
       "      <td>159</td>\n",
       "    </tr>\n",
       "    <tr>\n",
       "      <th>Voluntary</th>\n",
       "      <th>False</th>\n",
       "      <td>3</td>\n",
       "      <td>23</td>\n",
       "      <td>104</td>\n",
       "      <td>28</td>\n",
       "      <td>132</td>\n",
       "      <td>26</td>\n",
       "      <td>158</td>\n",
       "    </tr>\n",
       "  </tbody>\n",
       "</table>\n",
       "</div>"
      ],
      "text/plain": [
       "Overall effectiveness             Inadequate  Requires improvement to be good  \\\n",
       "Sector          owned_by_cambian                                                \n",
       "Local Authority False                      6                               60   \n",
       "Private         False                     43                              237   \n",
       "                True                       4                               36   \n",
       "Voluntary       False                      3                               23   \n",
       "\n",
       "Overall effectiveness             Good  Outstanding  goodplus  subpar  total  \n",
       "Sector          owned_by_cambian                                              \n",
       "Local Authority False              235           91       326      66    392  \n",
       "Private         False              901          199      1100     280   1380  \n",
       "                True               107           12       119      40    159  \n",
       "Voluntary       False              104           28       132      26    158  "
      ]
     },
     "execution_count": 29,
     "metadata": {},
     "output_type": "execute_result"
    }
   ],
   "source": [
    "(\n",
    "    inspections_filtered_latest\n",
    "    .groupby([\n",
    "        \"Sector\",\n",
    "        \"owned_by_cambian\"\n",
    "    ])\n",
    "    .pipe(calculate_totals)\n",
    ")"
   ]
  },
  {
   "cell_type": "markdown",
   "metadata": {},
   "source": [
    "## Calculate proportion of homes that received a subpar evaluation in *at least one inspection*"
   ]
  },
  {
   "cell_type": "code",
   "execution_count": 30,
   "metadata": {},
   "outputs": [],
   "source": [
    "def calculate_at_least_one_subpar(df, groups):\n",
    "    return (\n",
    "        df\n",
    "        .assign(\n",
    "            subpar = lambda df: (\n",
    "                df\n",
    "                [\"Overall effectiveness\"]\n",
    "                .isin([\n",
    "                    \"Inadequate\",\n",
    "                    \"Requires improvement to be good\"\n",
    "                ])\n",
    "            )\n",
    "        )\n",
    "        .groupby([\n",
    "            \"URN\",\n",
    "        ] + groups)\n",
    "        [\"subpar\"].max()\n",
    "        .reset_index()\n",
    "        .groupby(groups)\n",
    "        [\"subpar\"].value_counts()\n",
    "        .unstack()\n",
    "        .assign(\n",
    "            total = lambda df: df[True] + df[False]      \n",
    "        )\n",
    "        .assign(\n",
    "            rate = lambda df: df[True] / df[\"total\"]      \n",
    "        )\n",
    "    )"
   ]
  },
  {
   "cell_type": "markdown",
   "metadata": {},
   "source": [
    "### By sector"
   ]
  },
  {
   "cell_type": "code",
   "execution_count": 31,
   "metadata": {
    "scrolled": false
   },
   "outputs": [
    {
     "data": {
      "text/html": [
       "<div>\n",
       "<style scoped>\n",
       "    .dataframe tbody tr th:only-of-type {\n",
       "        vertical-align: middle;\n",
       "    }\n",
       "\n",
       "    .dataframe tbody tr th {\n",
       "        vertical-align: top;\n",
       "    }\n",
       "\n",
       "    .dataframe thead th {\n",
       "        text-align: right;\n",
       "    }\n",
       "</style>\n",
       "<table border=\"1\" class=\"dataframe\">\n",
       "  <thead>\n",
       "    <tr style=\"text-align: right;\">\n",
       "      <th>subpar</th>\n",
       "      <th>False</th>\n",
       "      <th>True</th>\n",
       "      <th>total</th>\n",
       "      <th>rate</th>\n",
       "    </tr>\n",
       "    <tr>\n",
       "      <th>Sector</th>\n",
       "      <th></th>\n",
       "      <th></th>\n",
       "      <th></th>\n",
       "      <th></th>\n",
       "    </tr>\n",
       "  </thead>\n",
       "  <tbody>\n",
       "    <tr>\n",
       "      <th>Local Authority</th>\n",
       "      <td>320</td>\n",
       "      <td>72</td>\n",
       "      <td>392</td>\n",
       "      <td>0.183673</td>\n",
       "    </tr>\n",
       "    <tr>\n",
       "      <th>Private</th>\n",
       "      <td>1191</td>\n",
       "      <td>348</td>\n",
       "      <td>1539</td>\n",
       "      <td>0.226121</td>\n",
       "    </tr>\n",
       "    <tr>\n",
       "      <th>Voluntary</th>\n",
       "      <td>131</td>\n",
       "      <td>27</td>\n",
       "      <td>158</td>\n",
       "      <td>0.170886</td>\n",
       "    </tr>\n",
       "  </tbody>\n",
       "</table>\n",
       "</div>"
      ],
      "text/plain": [
       "subpar           False  True  total      rate\n",
       "Sector                                       \n",
       "Local Authority    320    72    392  0.183673\n",
       "Private           1191   348   1539  0.226121\n",
       "Voluntary          131    27    158  0.170886"
      ]
     },
     "execution_count": 31,
     "metadata": {},
     "output_type": "execute_result"
    }
   ],
   "source": [
    "calculate_at_least_one_subpar(\n",
    "    inspections_filtered,\n",
    "    [ \"Sector\" ]\n",
    ")"
   ]
  },
  {
   "cell_type": "markdown",
   "metadata": {},
   "source": [
    "### By sector and ownership"
   ]
  },
  {
   "cell_type": "code",
   "execution_count": 32,
   "metadata": {
    "scrolled": false
   },
   "outputs": [
    {
     "data": {
      "text/html": [
       "<div>\n",
       "<style scoped>\n",
       "    .dataframe tbody tr th:only-of-type {\n",
       "        vertical-align: middle;\n",
       "    }\n",
       "\n",
       "    .dataframe tbody tr th {\n",
       "        vertical-align: top;\n",
       "    }\n",
       "\n",
       "    .dataframe thead th {\n",
       "        text-align: right;\n",
       "    }\n",
       "</style>\n",
       "<table border=\"1\" class=\"dataframe\">\n",
       "  <thead>\n",
       "    <tr style=\"text-align: right;\">\n",
       "      <th></th>\n",
       "      <th>subpar</th>\n",
       "      <th>False</th>\n",
       "      <th>True</th>\n",
       "      <th>total</th>\n",
       "      <th>rate</th>\n",
       "    </tr>\n",
       "    <tr>\n",
       "      <th>Sector</th>\n",
       "      <th>owned_by_cambian</th>\n",
       "      <th></th>\n",
       "      <th></th>\n",
       "      <th></th>\n",
       "      <th></th>\n",
       "    </tr>\n",
       "  </thead>\n",
       "  <tbody>\n",
       "    <tr>\n",
       "      <th>Local Authority</th>\n",
       "      <th>False</th>\n",
       "      <td>320</td>\n",
       "      <td>72</td>\n",
       "      <td>392</td>\n",
       "      <td>0.183673</td>\n",
       "    </tr>\n",
       "    <tr>\n",
       "      <th rowspan=\"2\" valign=\"top\">Private</th>\n",
       "      <th>False</th>\n",
       "      <td>1073</td>\n",
       "      <td>307</td>\n",
       "      <td>1380</td>\n",
       "      <td>0.222464</td>\n",
       "    </tr>\n",
       "    <tr>\n",
       "      <th>True</th>\n",
       "      <td>118</td>\n",
       "      <td>41</td>\n",
       "      <td>159</td>\n",
       "      <td>0.257862</td>\n",
       "    </tr>\n",
       "    <tr>\n",
       "      <th>Voluntary</th>\n",
       "      <th>False</th>\n",
       "      <td>131</td>\n",
       "      <td>27</td>\n",
       "      <td>158</td>\n",
       "      <td>0.170886</td>\n",
       "    </tr>\n",
       "  </tbody>\n",
       "</table>\n",
       "</div>"
      ],
      "text/plain": [
       "subpar                            False  True  total      rate\n",
       "Sector          owned_by_cambian                              \n",
       "Local Authority False               320    72    392  0.183673\n",
       "Private         False              1073   307   1380  0.222464\n",
       "                True                118    41    159  0.257862\n",
       "Voluntary       False               131    27    158  0.170886"
      ]
     },
     "execution_count": 32,
     "metadata": {},
     "output_type": "execute_result"
    }
   ],
   "source": [
    "calculate_at_least_one_subpar(\n",
    "    inspections_filtered,\n",
    "    [ \"Sector\", \"owned_by_cambian\" ]\n",
    ")"
   ]
  },
  {
   "cell_type": "markdown",
   "metadata": {},
   "source": [
    "---\n",
    "\n",
    "---\n",
    "\n",
    "---"
   ]
  }
 ],
 "metadata": {
  "kernelspec": {
   "display_name": "Python 3",
   "language": "python",
   "name": "python3"
  },
  "language_info": {
   "codemirror_mode": {
    "name": "ipython",
    "version": 3
   },
   "file_extension": ".py",
   "mimetype": "text/x-python",
   "name": "python",
   "nbconvert_exporter": "python",
   "pygments_lexer": "ipython3",
   "version": "3.6.4"
  }
 },
 "nbformat": 4,
 "nbformat_minor": 2
}
